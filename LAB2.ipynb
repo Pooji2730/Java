{
  "nbformat": 4,
  "nbformat_minor": 0,
  "metadata": {
    "colab": {
      "provenance": [],
      "authorship_tag": "ABX9TyOsbGNbxW2e8YFr69IG2CNB",
      "include_colab_link": true
    },
    "kernelspec": {
      "name": "python3",
      "display_name": "Python 3"
    },
    "language_info": {
      "name": "python"
    }
  },
  "cells": [
    {
      "cell_type": "markdown",
      "metadata": {
        "id": "view-in-github",
        "colab_type": "text"
      },
      "source": [
        "<a href=\"https://colab.research.google.com/github/Pooji2730/Java/blob/main/LAB2.ipynb\" target=\"_parent\"><img src=\"https://colab.research.google.com/assets/colab-badge.svg\" alt=\"Open In Colab\"/></a>"
      ]
    },
    {
      "cell_type": "code",
      "execution_count": null,
      "metadata": {
        "id": "Y966OvhLkkbn"
      },
      "outputs": [],
      "source": [
        "a=input(\"enter name\")\n",
        "b=(int)(input(\"enter age\"))\n",
        "c=float(input(\"enter your marks\"))\n",
        "print(\"my name is\",a,\"\\n\",\"my age\",b,\"\\n\",c)"
      ]
    }
  ]
}