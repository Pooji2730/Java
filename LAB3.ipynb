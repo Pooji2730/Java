{
  "nbformat": 4,
  "nbformat_minor": 0,
  "metadata": {
    "colab": {
      "provenance": [],
      "authorship_tag": "ABX9TyMujSJTjCCRa409oeIx+cKT",
      "include_colab_link": true
    },
    "kernelspec": {
      "name": "python3",
      "display_name": "Python 3"
    },
    "language_info": {
      "name": "python"
    }
  },
  "cells": [
    {
      "cell_type": "markdown",
      "metadata": {
        "id": "view-in-github",
        "colab_type": "text"
      },
      "source": [
        "<a href=\"https://colab.research.google.com/github/Pooji2730/Java/blob/main/LAB3.ipynb\" target=\"_parent\"><img src=\"https://colab.research.google.com/assets/colab-badge.svg\" alt=\"Open In Colab\"/></a>"
      ]
    },
    {
      "cell_type": "code",
      "execution_count": null,
      "metadata": {
        "id": "m6u_szMm-sQ1"
      },
      "outputs": [],
      "source": [
        "n= 153\n",
        "s=0\n",
        "n1=n\n",
        "while n>0:\n",
        "    r=n%10\n",
        "    s=s+(r*r*r)\n",
        "    n=n/10\n",
        "    if s==n1:\n",
        "        print(\"a\")\n",
        "    else:\n",
        "        print(\"na\")"
      ]
    }
  ]
}